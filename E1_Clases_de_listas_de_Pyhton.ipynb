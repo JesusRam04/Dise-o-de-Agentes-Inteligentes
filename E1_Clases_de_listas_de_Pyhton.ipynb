{
 "cells": [
  {
   "cell_type": "code",
   "execution_count": 1,
   "metadata": {},
   "outputs": [],
   "source": [
    "import pandas as pd"
   ]
  },
  {
   "cell_type": "code",
   "execution_count": 10,
   "metadata": {},
   "outputs": [],
   "source": [
    "MAX = 100\n",
    "\n",
    "class lista:\n",
    "    def __init__(self):\n",
    "        self.data = [0] * MAX\n",
    "        self.size = 0\n",
    "\n",
    "    def insert(self, x):\n",
    "        if self.size < MAX:\n",
    "            self.data[self.size] = x\n",
    "            self.size += 1\n",
    "\n",
    "    def erase(self):\n",
    "        if self.size > 0:\n",
    "            print(\"Elemento eliminado:\", self.data[self.size - 1]) #Se tiene que eliminar?, o solo mostrarlo?\n",
    "            self.data[self.size - 1] = 0\n",
    "            self.size -= 1\n",
    "        else:\n",
    "            print(\"NO HAY ELEMENTOS\")\n",
    "\n",
    "    def getData(self, index):\n",
    "        if index >= 0 and index < self.size:\n",
    "            return self.data[index]\n",
    "\n",
    "    def getSize(self):\n",
    "        return self.size\n",
    "\n",
    "    def print(self):\n",
    "        for i in range(self.size):\n",
    "            print(\"[{}] - {}\".format(i, self.data[i]))\n",
    "\n"
   ]
  },
  {
   "cell_type": "code",
   "execution_count": 15,
   "metadata": {},
   "outputs": [
    {
     "name": "stdout",
     "output_type": "stream",
     "text": [
      "[0] - 154\n",
      "[1] - 587\n",
      "[2] - 874\n",
      "Size: 3\n",
      "Elemento eliminado: 874\n",
      "[0] - 154\n",
      "[1] - 587\n"
     ]
    },
    {
     "data": {
      "text/plain": [
       "587"
      ]
     },
     "execution_count": 15,
     "metadata": {},
     "output_type": "execute_result"
    }
   ],
   "source": [
    "# Ejemplo\n",
    "lista1 = lista()\n",
    "lista1.insert(154)\n",
    "lista1.insert(587)\n",
    "lista1.insert(874)\n",
    "lista1.print()\n",
    "print(\"Size:\", lista1.getSize())\n",
    "lista1.erase()\n",
    "lista1.print()\n",
    "lista1.getData(1)"
   ]
  }
 ],
 "metadata": {
  "kernelspec": {
   "display_name": "base",
   "language": "python",
   "name": "python3"
  },
  "language_info": {
   "codemirror_mode": {
    "name": "ipython",
    "version": 3
   },
   "file_extension": ".py",
   "mimetype": "text/x-python",
   "name": "python",
   "nbconvert_exporter": "python",
   "pygments_lexer": "ipython3",
   "version": "3.10.9"
  }
 },
 "nbformat": 4,
 "nbformat_minor": 2
}
